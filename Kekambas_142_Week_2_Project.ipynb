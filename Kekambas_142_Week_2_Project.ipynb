{
 "cells": [
  {
   "cell_type": "code",
   "execution_count": 1,
   "id": "bdc14b89-347a-4034-8276-a135ed8e50de",
   "metadata": {},
   "outputs": [
    {
     "name": "stdout",
     "output_type": "stream",
     "text": [
      "\n",
      "Menu:\n",
      "1. Add item to cart\n",
      "2. Remove item from cart\n",
      "3. Display cart\n",
      "4. Exit\n"
     ]
    },
    {
     "name": "stdin",
     "output_type": "stream",
     "text": [
      "Enter your choice:  1\n",
      "Enter the name of the item:  Apples\n",
      "Enter the quantity of the item:  5\n",
      "Enter the price of the item:  1.50\n"
     ]
    },
    {
     "name": "stdout",
     "output_type": "stream",
     "text": [
      "Apples added to the cart.\n",
      "\n",
      "Menu:\n",
      "1. Add item to cart\n",
      "2. Remove item from cart\n",
      "3. Display cart\n",
      "4. Exit\n"
     ]
    },
    {
     "name": "stdin",
     "output_type": "stream",
     "text": [
      "Enter your choice:  1\n",
      "Enter the name of the item:  Pears\n",
      "Enter the quantity of the item:  5\n",
      "Enter the price of the item:  1.25\n"
     ]
    },
    {
     "name": "stdout",
     "output_type": "stream",
     "text": [
      "Pears added to the cart.\n",
      "\n",
      "Menu:\n",
      "1. Add item to cart\n",
      "2. Remove item from cart\n",
      "3. Display cart\n",
      "4. Exit\n"
     ]
    },
    {
     "name": "stdin",
     "output_type": "stream",
     "text": [
      "Enter your choice:  1\n",
      "Enter the name of the item:  Peaches\n",
      "Enter the quantity of the item:  5\n",
      "Enter the price of the item:  .50\n"
     ]
    },
    {
     "name": "stdout",
     "output_type": "stream",
     "text": [
      "Peaches added to the cart.\n",
      "\n",
      "Menu:\n",
      "1. Add item to cart\n",
      "2. Remove item from cart\n",
      "3. Display cart\n",
      "4. Exit\n"
     ]
    },
    {
     "name": "stdin",
     "output_type": "stream",
     "text": [
      "Enter your choice:  1\n",
      "Enter the name of the item:  Bananas\n",
      "Enter the quantity of the item:  12\n",
      "Enter the price of the item:  .75\n"
     ]
    },
    {
     "name": "stdout",
     "output_type": "stream",
     "text": [
      "Bananas added to the cart.\n",
      "\n",
      "Menu:\n",
      "1. Add item to cart\n",
      "2. Remove item from cart\n",
      "3. Display cart\n",
      "4. Exit\n"
     ]
    },
    {
     "name": "stdin",
     "output_type": "stream",
     "text": [
      "Enter your choice:  3\n"
     ]
    },
    {
     "name": "stdout",
     "output_type": "stream",
     "text": [
      "Current items in the shopping cart:\n",
      "Item: Apples, Quantity: 5, Price: 1.5\n",
      "Item: Pears, Quantity: 5, Price: 1.25\n",
      "Item: Peaches, Quantity: 5, Price: 0.5\n",
      "Item: Bananas, Quantity: 12, Price: 0.75\n",
      "Total cost: 25.25\n",
      "\n",
      "Menu:\n",
      "1. Add item to cart\n",
      "2. Remove item from cart\n",
      "3. Display cart\n",
      "4. Exit\n"
     ]
    },
    {
     "name": "stdin",
     "output_type": "stream",
     "text": [
      "Enter your choice:  1\n",
      "Enter the name of the item:  Durian\n",
      "Enter the quantity of the item:  2\n",
      "Enter the price of the item:  2\n"
     ]
    },
    {
     "name": "stdout",
     "output_type": "stream",
     "text": [
      "Durian added to the cart.\n",
      "\n",
      "Menu:\n",
      "1. Add item to cart\n",
      "2. Remove item from cart\n",
      "3. Display cart\n",
      "4. Exit\n"
     ]
    },
    {
     "name": "stdin",
     "output_type": "stream",
     "text": [
      "Enter your choice:  3\n"
     ]
    },
    {
     "name": "stdout",
     "output_type": "stream",
     "text": [
      "Current items in the shopping cart:\n",
      "Item: Apples, Quantity: 5, Price: 1.5\n",
      "Item: Pears, Quantity: 5, Price: 1.25\n",
      "Item: Peaches, Quantity: 5, Price: 0.5\n",
      "Item: Bananas, Quantity: 12, Price: 0.75\n",
      "Item: Durian, Quantity: 2, Price: 2.0\n",
      "Total cost: 29.25\n",
      "\n",
      "Menu:\n",
      "1. Add item to cart\n",
      "2. Remove item from cart\n",
      "3. Display cart\n",
      "4. Exit\n"
     ]
    },
    {
     "name": "stdin",
     "output_type": "stream",
     "text": [
      "Enter your choice:  2\n",
      "Enter the name of the item to remove:  Durian\n"
     ]
    },
    {
     "name": "stdout",
     "output_type": "stream",
     "text": [
      "Durian removed from the cart.\n",
      "\n",
      "Menu:\n",
      "1. Add item to cart\n",
      "2. Remove item from cart\n",
      "3. Display cart\n",
      "4. Exit\n"
     ]
    },
    {
     "name": "stdin",
     "output_type": "stream",
     "text": [
      "Enter your choice:  3\n"
     ]
    },
    {
     "name": "stdout",
     "output_type": "stream",
     "text": [
      "Current items in the shopping cart:\n",
      "Item: Apples, Quantity: 5, Price: 1.5\n",
      "Item: Pears, Quantity: 5, Price: 1.25\n",
      "Item: Peaches, Quantity: 5, Price: 0.5\n",
      "Item: Bananas, Quantity: 12, Price: 0.75\n",
      "Total cost: 25.25\n",
      "\n",
      "Menu:\n",
      "1. Add item to cart\n",
      "2. Remove item from cart\n",
      "3. Display cart\n",
      "4. Exit\n"
     ]
    },
    {
     "name": "stdin",
     "output_type": "stream",
     "text": [
      "Enter your choice:  4\n"
     ]
    },
    {
     "name": "stdout",
     "output_type": "stream",
     "text": [
      "\n",
      "Thank you for shopping with us!\n",
      "Current items in the shopping cart:\n",
      "Item: Apples, Quantity: 5, Price: 1.5\n",
      "Item: Pears, Quantity: 5, Price: 1.25\n",
      "Item: Peaches, Quantity: 5, Price: 0.5\n",
      "Item: Bananas, Quantity: 12, Price: 0.75\n",
      "Total cost: 25.25\n"
     ]
    }
   ],
   "source": [
    "class ShoppingCart:\n",
    "    def __init__(self):\n",
    "        self.cart = {}  # Initialize an empty dictionary to represent the shopping cart\n",
    "\n",
    "    def add_item(self):\n",
    "        \"\"\"Add items to the shopping cart.\"\"\"\n",
    "        item_name = input(\"Enter the name of the item: \")\n",
    "        item_quantity = int(input(\"Enter the quantity of the item: \"))\n",
    "        item_price = float(input(\"Enter the price of the item: \"))\n",
    "        self.cart[item_name] = {'quantity': item_quantity, 'price': item_price}\n",
    "        print(f\"{item_name} added to the cart.\")\n",
    "\n",
    "    def remove_item(self):\n",
    "        \"\"\"Remove items from the shopping cart.\"\"\"\n",
    "        item_name = input(\"Enter the name of the item to remove: \")\n",
    "        if item_name in self.cart:\n",
    "            del self.cart[item_name]\n",
    "            print(f\"{item_name} removed from the cart.\")\n",
    "        else:\n",
    "            print(f\"{item_name} not found in the cart.\")\n",
    "\n",
    "    def display_cart(self):\n",
    "        \"\"\"Display the current contents of the shopping cart.\"\"\"\n",
    "        total_cost = 0\n",
    "        print(\"Current items in the shopping cart:\")\n",
    "        for item_name, item_details in self.cart.items():\n",
    "            print(f\"Item: {item_name}, Quantity: {item_details['quantity']}, Price: {item_details['price']}\")\n",
    "            total_cost += item_details['quantity'] * item_details['price']\n",
    "        print(f\"Total cost: {total_cost}\")\n",
    "\n",
    "    def run_shopping_cart(self):\n",
    "        \"\"\"Run the shopping cart program.\"\"\"\n",
    "        while True:\n",
    "            print(\"\\nMenu:\")\n",
    "            print(\"1. Add item to cart\")\n",
    "            print(\"2. Remove item from cart\")\n",
    "            print(\"3. Display cart\")\n",
    "            print(\"4. Exit\")\n",
    "            choice = input(\"Enter your choice: \")\n",
    "\n",
    "            if choice == '1':\n",
    "                self.add_item()\n",
    "            elif choice == '2':\n",
    "                self.remove_item()\n",
    "            elif choice == '3':\n",
    "                self.display_cart()\n",
    "            elif choice == '4':\n",
    "                print(\"\\nThank you for shopping with us!\")\n",
    "                self.display_cart()\n",
    "                break\n",
    "            else:\n",
    "                print(\"Invalid choice. Please try again.\")\n",
    "\n",
    "# Initialize and run the shopping cart program\n",
    "shopping_cart = ShoppingCart()\n",
    "shopping_cart.run_shopping_cart()\n"
   ]
  },
  {
   "cell_type": "code",
   "execution_count": null,
   "id": "288914c1-34f5-4b10-8e8e-f01e9c418608",
   "metadata": {},
   "outputs": [],
   "source": []
  },
  {
   "cell_type": "code",
   "execution_count": null,
   "id": "f662e3c5-4140-4d48-a3d2-9b55822bf22d",
   "metadata": {},
   "outputs": [],
   "source": []
  },
  {
   "cell_type": "code",
   "execution_count": null,
   "id": "4a430428-b3e2-4621-a042-ff2cf9869432",
   "metadata": {},
   "outputs": [],
   "source": []
  },
  {
   "cell_type": "code",
   "execution_count": null,
   "id": "ebbdac03-21fa-426c-a130-fbfe9a15daa3",
   "metadata": {},
   "outputs": [],
   "source": []
  },
  {
   "cell_type": "code",
   "execution_count": null,
   "id": "75b91358-9cb6-457d-b542-6d7076ffd157",
   "metadata": {},
   "outputs": [],
   "source": []
  }
 ],
 "metadata": {
  "kernelspec": {
   "display_name": "Python 3 (ipykernel)",
   "language": "python",
   "name": "python3"
  },
  "language_info": {
   "codemirror_mode": {
    "name": "ipython",
    "version": 3
   },
   "file_extension": ".py",
   "mimetype": "text/x-python",
   "name": "python",
   "nbconvert_exporter": "python",
   "pygments_lexer": "ipython3",
   "version": "3.11.5"
  }
 },
 "nbformat": 4,
 "nbformat_minor": 5
}
